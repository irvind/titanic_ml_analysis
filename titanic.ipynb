{
 "cells": [
  {
   "cell_type": "code",
   "execution_count": 6,
   "id": "9904eef0-f3e0-44d5-980b-7e167b228b72",
   "metadata": {},
   "outputs": [
    {
     "name": "stdout",
     "output_type": "stream",
     "text": [
      "Column \"PassengerId\" NaN count: 0\n",
      "Column \"Survived\" NaN count: 0\n",
      "Column \"Pclass\" NaN count: 0\n",
      "Column \"Name\" NaN count: 0\n",
      "Column \"Sex\" NaN count: 0\n",
      "Column \"Age\" NaN count: 177\n",
      "Column \"SibSp\" NaN count: 0\n",
      "Column \"Parch\" NaN count: 0\n",
      "Column \"Ticket\" NaN count: 0\n",
      "Column \"Fare\" NaN count: 0\n",
      "Column \"Cabin\" NaN count: 687\n",
      "Column \"Embarked\" NaN count: 2\n"
     ]
    }
   ],
   "source": [
    "import pandas as pd\n",
    "\n",
    "df = pd.read_csv('titanic_train.csv', header=0)\n",
    "for column in df.columns:\n",
    "    print(f'Column \"{column}\" NaN count:', df[column].isna().sum())"
   ]
  },
  {
   "cell_type": "code",
   "execution_count": 7,
   "id": "64aa45fb-7636-4906-87c1-2932e616478c",
   "metadata": {},
   "outputs": [
    {
     "data": {
      "text/html": [
       "<div>\n",
       "<style scoped>\n",
       "    .dataframe tbody tr th:only-of-type {\n",
       "        vertical-align: middle;\n",
       "    }\n",
       "\n",
       "    .dataframe tbody tr th {\n",
       "        vertical-align: top;\n",
       "    }\n",
       "\n",
       "    .dataframe thead th {\n",
       "        text-align: right;\n",
       "    }\n",
       "</style>\n",
       "<table border=\"1\" class=\"dataframe\">\n",
       "  <thead>\n",
       "    <tr style=\"text-align: right;\">\n",
       "      <th></th>\n",
       "      <th>PassengerId</th>\n",
       "      <th>Survived</th>\n",
       "      <th>Pclass</th>\n",
       "      <th>Name</th>\n",
       "      <th>Sex</th>\n",
       "      <th>Age</th>\n",
       "      <th>SibSp</th>\n",
       "      <th>Parch</th>\n",
       "      <th>Ticket</th>\n",
       "      <th>Fare</th>\n",
       "      <th>Cabin</th>\n",
       "      <th>Embarked</th>\n",
       "    </tr>\n",
       "  </thead>\n",
       "  <tbody>\n",
       "    <tr>\n",
       "      <th>0</th>\n",
       "      <td>1</td>\n",
       "      <td>0</td>\n",
       "      <td>3</td>\n",
       "      <td>Braund, Mr. Owen Harris</td>\n",
       "      <td>male</td>\n",
       "      <td>22.0</td>\n",
       "      <td>1</td>\n",
       "      <td>0</td>\n",
       "      <td>A/5 21171</td>\n",
       "      <td>7.2500</td>\n",
       "      <td>NaN</td>\n",
       "      <td>S</td>\n",
       "    </tr>\n",
       "    <tr>\n",
       "      <th>1</th>\n",
       "      <td>2</td>\n",
       "      <td>1</td>\n",
       "      <td>1</td>\n",
       "      <td>Cumings, Mrs. John Bradley (Florence Briggs Th...</td>\n",
       "      <td>female</td>\n",
       "      <td>38.0</td>\n",
       "      <td>1</td>\n",
       "      <td>0</td>\n",
       "      <td>PC 17599</td>\n",
       "      <td>71.2833</td>\n",
       "      <td>C85</td>\n",
       "      <td>C</td>\n",
       "    </tr>\n",
       "    <tr>\n",
       "      <th>2</th>\n",
       "      <td>3</td>\n",
       "      <td>1</td>\n",
       "      <td>3</td>\n",
       "      <td>Heikkinen, Miss. Laina</td>\n",
       "      <td>female</td>\n",
       "      <td>26.0</td>\n",
       "      <td>0</td>\n",
       "      <td>0</td>\n",
       "      <td>STON/O2. 3101282</td>\n",
       "      <td>7.9250</td>\n",
       "      <td>NaN</td>\n",
       "      <td>S</td>\n",
       "    </tr>\n",
       "    <tr>\n",
       "      <th>3</th>\n",
       "      <td>4</td>\n",
       "      <td>1</td>\n",
       "      <td>1</td>\n",
       "      <td>Futrelle, Mrs. Jacques Heath (Lily May Peel)</td>\n",
       "      <td>female</td>\n",
       "      <td>35.0</td>\n",
       "      <td>1</td>\n",
       "      <td>0</td>\n",
       "      <td>113803</td>\n",
       "      <td>53.1000</td>\n",
       "      <td>C123</td>\n",
       "      <td>S</td>\n",
       "    </tr>\n",
       "    <tr>\n",
       "      <th>4</th>\n",
       "      <td>5</td>\n",
       "      <td>0</td>\n",
       "      <td>3</td>\n",
       "      <td>Allen, Mr. William Henry</td>\n",
       "      <td>male</td>\n",
       "      <td>35.0</td>\n",
       "      <td>0</td>\n",
       "      <td>0</td>\n",
       "      <td>373450</td>\n",
       "      <td>8.0500</td>\n",
       "      <td>NaN</td>\n",
       "      <td>S</td>\n",
       "    </tr>\n",
       "    <tr>\n",
       "      <th>...</th>\n",
       "      <td>...</td>\n",
       "      <td>...</td>\n",
       "      <td>...</td>\n",
       "      <td>...</td>\n",
       "      <td>...</td>\n",
       "      <td>...</td>\n",
       "      <td>...</td>\n",
       "      <td>...</td>\n",
       "      <td>...</td>\n",
       "      <td>...</td>\n",
       "      <td>...</td>\n",
       "      <td>...</td>\n",
       "    </tr>\n",
       "    <tr>\n",
       "      <th>886</th>\n",
       "      <td>887</td>\n",
       "      <td>0</td>\n",
       "      <td>2</td>\n",
       "      <td>Montvila, Rev. Juozas</td>\n",
       "      <td>male</td>\n",
       "      <td>27.0</td>\n",
       "      <td>0</td>\n",
       "      <td>0</td>\n",
       "      <td>211536</td>\n",
       "      <td>13.0000</td>\n",
       "      <td>NaN</td>\n",
       "      <td>S</td>\n",
       "    </tr>\n",
       "    <tr>\n",
       "      <th>887</th>\n",
       "      <td>888</td>\n",
       "      <td>1</td>\n",
       "      <td>1</td>\n",
       "      <td>Graham, Miss. Margaret Edith</td>\n",
       "      <td>female</td>\n",
       "      <td>19.0</td>\n",
       "      <td>0</td>\n",
       "      <td>0</td>\n",
       "      <td>112053</td>\n",
       "      <td>30.0000</td>\n",
       "      <td>B42</td>\n",
       "      <td>S</td>\n",
       "    </tr>\n",
       "    <tr>\n",
       "      <th>888</th>\n",
       "      <td>889</td>\n",
       "      <td>0</td>\n",
       "      <td>3</td>\n",
       "      <td>Johnston, Miss. Catherine Helen \"Carrie\"</td>\n",
       "      <td>female</td>\n",
       "      <td>NaN</td>\n",
       "      <td>1</td>\n",
       "      <td>2</td>\n",
       "      <td>W./C. 6607</td>\n",
       "      <td>23.4500</td>\n",
       "      <td>NaN</td>\n",
       "      <td>S</td>\n",
       "    </tr>\n",
       "    <tr>\n",
       "      <th>889</th>\n",
       "      <td>890</td>\n",
       "      <td>1</td>\n",
       "      <td>1</td>\n",
       "      <td>Behr, Mr. Karl Howell</td>\n",
       "      <td>male</td>\n",
       "      <td>26.0</td>\n",
       "      <td>0</td>\n",
       "      <td>0</td>\n",
       "      <td>111369</td>\n",
       "      <td>30.0000</td>\n",
       "      <td>C148</td>\n",
       "      <td>C</td>\n",
       "    </tr>\n",
       "    <tr>\n",
       "      <th>890</th>\n",
       "      <td>891</td>\n",
       "      <td>0</td>\n",
       "      <td>3</td>\n",
       "      <td>Dooley, Mr. Patrick</td>\n",
       "      <td>male</td>\n",
       "      <td>32.0</td>\n",
       "      <td>0</td>\n",
       "      <td>0</td>\n",
       "      <td>370376</td>\n",
       "      <td>7.7500</td>\n",
       "      <td>NaN</td>\n",
       "      <td>Q</td>\n",
       "    </tr>\n",
       "  </tbody>\n",
       "</table>\n",
       "<p>891 rows × 12 columns</p>\n",
       "</div>"
      ],
      "text/plain": [
       "     PassengerId  Survived  Pclass  \\\n",
       "0              1         0       3   \n",
       "1              2         1       1   \n",
       "2              3         1       3   \n",
       "3              4         1       1   \n",
       "4              5         0       3   \n",
       "..           ...       ...     ...   \n",
       "886          887         0       2   \n",
       "887          888         1       1   \n",
       "888          889         0       3   \n",
       "889          890         1       1   \n",
       "890          891         0       3   \n",
       "\n",
       "                                                  Name     Sex   Age  SibSp  \\\n",
       "0                              Braund, Mr. Owen Harris    male  22.0      1   \n",
       "1    Cumings, Mrs. John Bradley (Florence Briggs Th...  female  38.0      1   \n",
       "2                               Heikkinen, Miss. Laina  female  26.0      0   \n",
       "3         Futrelle, Mrs. Jacques Heath (Lily May Peel)  female  35.0      1   \n",
       "4                             Allen, Mr. William Henry    male  35.0      0   \n",
       "..                                                 ...     ...   ...    ...   \n",
       "886                              Montvila, Rev. Juozas    male  27.0      0   \n",
       "887                       Graham, Miss. Margaret Edith  female  19.0      0   \n",
       "888           Johnston, Miss. Catherine Helen \"Carrie\"  female   NaN      1   \n",
       "889                              Behr, Mr. Karl Howell    male  26.0      0   \n",
       "890                                Dooley, Mr. Patrick    male  32.0      0   \n",
       "\n",
       "     Parch            Ticket     Fare Cabin Embarked  \n",
       "0        0         A/5 21171   7.2500   NaN        S  \n",
       "1        0          PC 17599  71.2833   C85        C  \n",
       "2        0  STON/O2. 3101282   7.9250   NaN        S  \n",
       "3        0            113803  53.1000  C123        S  \n",
       "4        0            373450   8.0500   NaN        S  \n",
       "..     ...               ...      ...   ...      ...  \n",
       "886      0            211536  13.0000   NaN        S  \n",
       "887      0            112053  30.0000   B42        S  \n",
       "888      2        W./C. 6607  23.4500   NaN        S  \n",
       "889      0            111369  30.0000  C148        C  \n",
       "890      0            370376   7.7500   NaN        Q  \n",
       "\n",
       "[891 rows x 12 columns]"
      ]
     },
     "execution_count": 7,
     "metadata": {},
     "output_type": "execute_result"
    }
   ],
   "source": [
    "df"
   ]
  },
  {
   "cell_type": "code",
   "execution_count": 8,
   "id": "8318779e-c854-42aa-b728-725b840a7f69",
   "metadata": {},
   "outputs": [
    {
     "data": {
      "text/html": [
       "<div>\n",
       "<style scoped>\n",
       "    .dataframe tbody tr th:only-of-type {\n",
       "        vertical-align: middle;\n",
       "    }\n",
       "\n",
       "    .dataframe tbody tr th {\n",
       "        vertical-align: top;\n",
       "    }\n",
       "\n",
       "    .dataframe thead th {\n",
       "        text-align: right;\n",
       "    }\n",
       "</style>\n",
       "<table border=\"1\" class=\"dataframe\">\n",
       "  <thead>\n",
       "    <tr style=\"text-align: right;\">\n",
       "      <th></th>\n",
       "      <th>Survived</th>\n",
       "      <th>Pclass</th>\n",
       "      <th>Sex</th>\n",
       "      <th>Age</th>\n",
       "      <th>SibSp</th>\n",
       "      <th>Parch</th>\n",
       "      <th>Fare</th>\n",
       "    </tr>\n",
       "  </thead>\n",
       "  <tbody>\n",
       "    <tr>\n",
       "      <th>0</th>\n",
       "      <td>0</td>\n",
       "      <td>3</td>\n",
       "      <td>0</td>\n",
       "      <td>22.0</td>\n",
       "      <td>1</td>\n",
       "      <td>0</td>\n",
       "      <td>7.2500</td>\n",
       "    </tr>\n",
       "    <tr>\n",
       "      <th>1</th>\n",
       "      <td>1</td>\n",
       "      <td>1</td>\n",
       "      <td>1</td>\n",
       "      <td>38.0</td>\n",
       "      <td>1</td>\n",
       "      <td>0</td>\n",
       "      <td>71.2833</td>\n",
       "    </tr>\n",
       "    <tr>\n",
       "      <th>2</th>\n",
       "      <td>1</td>\n",
       "      <td>3</td>\n",
       "      <td>1</td>\n",
       "      <td>26.0</td>\n",
       "      <td>0</td>\n",
       "      <td>0</td>\n",
       "      <td>7.9250</td>\n",
       "    </tr>\n",
       "    <tr>\n",
       "      <th>3</th>\n",
       "      <td>1</td>\n",
       "      <td>1</td>\n",
       "      <td>1</td>\n",
       "      <td>35.0</td>\n",
       "      <td>1</td>\n",
       "      <td>0</td>\n",
       "      <td>53.1000</td>\n",
       "    </tr>\n",
       "    <tr>\n",
       "      <th>4</th>\n",
       "      <td>0</td>\n",
       "      <td>3</td>\n",
       "      <td>0</td>\n",
       "      <td>35.0</td>\n",
       "      <td>0</td>\n",
       "      <td>0</td>\n",
       "      <td>8.0500</td>\n",
       "    </tr>\n",
       "    <tr>\n",
       "      <th>...</th>\n",
       "      <td>...</td>\n",
       "      <td>...</td>\n",
       "      <td>...</td>\n",
       "      <td>...</td>\n",
       "      <td>...</td>\n",
       "      <td>...</td>\n",
       "      <td>...</td>\n",
       "    </tr>\n",
       "    <tr>\n",
       "      <th>886</th>\n",
       "      <td>0</td>\n",
       "      <td>2</td>\n",
       "      <td>0</td>\n",
       "      <td>27.0</td>\n",
       "      <td>0</td>\n",
       "      <td>0</td>\n",
       "      <td>13.0000</td>\n",
       "    </tr>\n",
       "    <tr>\n",
       "      <th>887</th>\n",
       "      <td>1</td>\n",
       "      <td>1</td>\n",
       "      <td>1</td>\n",
       "      <td>19.0</td>\n",
       "      <td>0</td>\n",
       "      <td>0</td>\n",
       "      <td>30.0000</td>\n",
       "    </tr>\n",
       "    <tr>\n",
       "      <th>888</th>\n",
       "      <td>0</td>\n",
       "      <td>3</td>\n",
       "      <td>1</td>\n",
       "      <td>30.0</td>\n",
       "      <td>1</td>\n",
       "      <td>2</td>\n",
       "      <td>23.4500</td>\n",
       "    </tr>\n",
       "    <tr>\n",
       "      <th>889</th>\n",
       "      <td>1</td>\n",
       "      <td>1</td>\n",
       "      <td>0</td>\n",
       "      <td>26.0</td>\n",
       "      <td>0</td>\n",
       "      <td>0</td>\n",
       "      <td>30.0000</td>\n",
       "    </tr>\n",
       "    <tr>\n",
       "      <th>890</th>\n",
       "      <td>0</td>\n",
       "      <td>3</td>\n",
       "      <td>0</td>\n",
       "      <td>32.0</td>\n",
       "      <td>0</td>\n",
       "      <td>0</td>\n",
       "      <td>7.7500</td>\n",
       "    </tr>\n",
       "  </tbody>\n",
       "</table>\n",
       "<p>891 rows × 7 columns</p>\n",
       "</div>"
      ],
      "text/plain": [
       "     Survived  Pclass  Sex   Age  SibSp  Parch     Fare\n",
       "0           0       3    0  22.0      1      0   7.2500\n",
       "1           1       1    1  38.0      1      0  71.2833\n",
       "2           1       3    1  26.0      0      0   7.9250\n",
       "3           1       1    1  35.0      1      0  53.1000\n",
       "4           0       3    0  35.0      0      0   8.0500\n",
       "..        ...     ...  ...   ...    ...    ...      ...\n",
       "886         0       2    0  27.0      0      0  13.0000\n",
       "887         1       1    1  19.0      0      0  30.0000\n",
       "888         0       3    1  30.0      1      2  23.4500\n",
       "889         1       1    0  26.0      0      0  30.0000\n",
       "890         0       3    0  32.0      0      0   7.7500\n",
       "\n",
       "[891 rows x 7 columns]"
      ]
     },
     "execution_count": 8,
     "metadata": {},
     "output_type": "execute_result"
    }
   ],
   "source": [
    "import numpy as np\n",
    "\n",
    "df = df.fillna({'Age': df['Age'].mean(),\n",
    "                'Embarked': 'S'})\n",
    "\n",
    "df['Age'] = df['Age'].apply(np.ceil)\n",
    "\n",
    "sex_mapping = {'male': 0, 'female': 1}\n",
    "df['Sex'] = df['Sex'].map(sex_mapping)\n",
    "\n",
    "df = df[['Survived', 'Pclass', 'Sex', 'Age', 'SibSp', 'Parch', 'Fare']]\n",
    "df"
   ]
  },
  {
   "cell_type": "code",
   "execution_count": 9,
   "id": "4d855963-7d69-41fd-bfa5-b56cf7fd957c",
   "metadata": {},
   "outputs": [
    {
     "data": {
      "image/png": "[encoded data removed]",
      "text/plain": [
       "<Figure size 432x288 with 1 Axes>"
      ]
     },
     "metadata": {
      "needs_background": "light"
     },
     "output_type": "display_data"
    }
   ],
   "source": [
    "import matplotlib.pyplot as plt\n",
    "\n",
    "\n",
    "def show_2_bin_plot(x_values, y_values, xlabel=None, ylabel='Count', x_label_map=None):\n",
    "    plt.bar(x_values, y_values, alpha=1, align='center')\n",
    "    plt.ylabel(ylabel)\n",
    "    if xlabel:\n",
    "        plt.xlabel(xlabel)\n",
    "    labels = [x_label_map[v] for v in x_values]\n",
    "    plt.xticks(x_values, labels, rotation=90)\n",
    "    plt.xlim([-1, len(x_values)])\n",
    "    plt.tight_layout()\n",
    "    plt.show()\n",
    "\n",
    "\n",
    "sample_count = len(df)\n",
    "positive_count = df['Survived'].sum()\n",
    "surv_count = [sample_count - positive_count, positive_count]\n",
    "show_2_bin_plot([0, 1], surv_count, x_label_map={0: 'Not survived', 1: 'Survived'})"
   ]
  },
  {
   "cell_type": "code",
   "execution_count": 10,
   "id": "1f7d1c18-1c91-49ea-b693-68f5c8f1756b",
   "metadata": {},
   "outputs": [
    {
     "data": {
      "image/png": "[encoded data removed]",
      "text/plain": [
       "<Figure size 432x288 with 1 Axes>"
      ]
     },
     "metadata": {
      "needs_background": "light"
     },
     "output_type": "display_data"
    }
   ],
   "source": [
    "female_count = df['Sex'].sum()\n",
    "sex_count = [\n",
    "    sample_count - female_count,\n",
    "    female_count\n",
    "]\n",
    "show_2_bin_plot([0, 1], sex_count, x_label_map={0: 'Male', 1: 'Female'})"
   ]
  },
  {
   "cell_type": "code",
   "execution_count": 11,
   "id": "2529ce7c-600c-471d-bc78-76fd36a72aea",
   "metadata": {},
   "outputs": [],
   "source": [
    "from sklearn.model_selection import train_test_split\n",
    "\n",
    "X = df.iloc[:, 1:].values\n",
    "y = df.iloc[:, 0].values\n",
    "\n",
    "X_train, X_test, y_train, y_test = train_test_split(\n",
    "    X, y, test_size=0.25, random_state=1, stratify=y\n",
    ")\n",
    "\n",
    "PCLASS_FEATURE = 0\n",
    "SEX_FEATURE = 1\n",
    "AGE_FEATURE = 2\n",
    "FARE_FEATURE = 5\n",
    "SURVIVED = 1\n",
    "NOT_SURVIVED = 0\n",
    "MALE = 0\n",
    "FEMALE = 1"
   ]
  },
  {
   "cell_type": "code",
   "execution_count": 12,
   "id": "05bd14d4-fadb-4938-a136-7a8831806dac",
   "metadata": {},
   "outputs": [
    {
     "name": "stdout",
     "output_type": "stream",
     "text": [
      "Score if y == 0 for every sample: 0.6161616161616161\n"
     ]
    }
   ],
   "source": [
    "all_dead_score = (sample_count - positive_count) / sample_count\n",
    "print('Score if y == 0 for every sample:', all_dead_score)"
   ]
  },
  {
   "cell_type": "code",
   "execution_count": 14,
   "id": "cb577cf4-feac-459c-8a79-a4cab3bd6744",
   "metadata": {},
   "outputs": [
    {
     "data": {
      "image/png": "[encoded data removed]",
      "text/plain": [
       "<Figure size 432x288 with 1 Axes>"
      ]
     },
     "metadata": {
      "needs_background": "light"
     },
     "output_type": "display_data"
    }
   ],
   "source": [
    "def get_surv_distribution(X_filtered, y):\n",
    "    _all = X_filtered.sum()\n",
    "    surv = (y[X_filtered] == SURVIVED).sum()\n",
    "    not_surv = (y[X_filtered] == NOT_SURVIVED).sum()\n",
    "    return _all, surv, not_surv\n",
    "    \n",
    "\n",
    "all_males_count, survived_males_count, not_survived_males_count =\\\n",
    "    get_surv_distribution(X[:, SEX_FEATURE] == MALE, y)\n",
    "all_females_count, survived_females_count, not_survived_females_count =\\\n",
    "    get_surv_distribution(X[:, SEX_FEATURE] == FEMALE, y)\n",
    "\n",
    "x_values = list(range(6))\n",
    "y_values = [all_males_count, survived_males_count, not_survived_males_count,\n",
    "            all_females_count, survived_females_count, not_survived_females_count]\n",
    "\n",
    "plt.bar(x_values, y_values, alpha=1, align='center')\n",
    "plt.ylabel('Count')\n",
    "plt.xticks(x_values, [\n",
    "    'All males',\n",
    "    'Survived males',\n",
    "    'Not survived males',\n",
    "    'All females',\n",
    "    'Survived females',\n",
    "    'Not survived females'\n",
    "], rotation=90)\n",
    "plt.xlim([-1, len(x_values)])\n",
    "plt.tight_layout()\n",
    "plt.show()"
   ]
  },
  {
   "cell_type": "code",
   "execution_count": 15,
   "id": "c8128457-4a50-4c98-b2b1-21d6a9a3f623",
   "metadata": {},
   "outputs": [
    {
     "data": {
      "image/png": "[encoded data removed]",
      "text/plain": [
       "<Figure size 432x288 with 1 Axes>"
      ]
     },
     "metadata": {
      "needs_background": "light"
     },
     "output_type": "display_data"
    }
   ],
   "source": [
    "all_pclass1_count, all_surv_pclass1_count, all_not_surv_pclass1_count =\\\n",
    "    get_surv_distribution(X[:, PCLASS_FEATURE] == 1, y)\n",
    "all_pclass2_count, all_surv_pclass2_count, all_not_surv_pclass2_count =\\\n",
    "    get_surv_distribution(X[:, PCLASS_FEATURE] == 2, y)\n",
    "all_pclass3_count, all_surv_pclass3_count, all_not_surv_pclass3_count =\\\n",
    "    get_surv_distribution(X[:, PCLASS_FEATURE] == 3, y)\n",
    "\n",
    "x_values = list(range(9))\n",
    "y_values = [all_pclass1_count, all_surv_pclass1_count, all_not_surv_pclass1_count,\n",
    "            all_pclass2_count, all_surv_pclass2_count, all_not_surv_pclass2_count,\n",
    "            all_pclass3_count, all_surv_pclass3_count, all_not_surv_pclass3_count]\n",
    "\n",
    "plt.bar(x_values, y_values, alpha=1, align='center')\n",
    "plt.ylabel('Count')\n",
    "plt.xticks(x_values, [\n",
    "    'All pclass 1',\n",
    "    'Survived pclass 1',\n",
    "    'Not survived pclass 1',\n",
    "    'All pclass 2',\n",
    "    'Survived pclass 2',\n",
    "    'Not survived pclass 2',\n",
    "    'All pclass 3',\n",
    "    'Survived pclass 3',\n",
    "    'Not survived pclass 3',\n",
    "], rotation=90)\n",
    "plt.xlim([-1, len(x_values)])\n",
    "plt.tight_layout()\n",
    "plt.show()"
   ]
  },
  {
   "cell_type": "code",
   "execution_count": 18,
   "id": "ba7f4dad-debc-47e9-a0e7-68e30e4b3c3c",
   "metadata": {},
   "outputs": [
    {
     "name": "stdout",
     "output_type": "stream",
     "text": [
      "Log reg train score: 0.8023952095808383\n",
      "Log reg test score: 0.7802690582959642\n"
     ]
    }
   ],
   "source": [
    "from sklearn.linear_model import LogisticRegression\n",
    "from sklearn.preprocessing import StandardScaler\n",
    "from sklearn.pipeline import make_pipeline\n",
    "\n",
    "log_reg_pipe = make_pipeline(\n",
    "    StandardScaler(),\n",
    "    LogisticRegression(C=10, solver='lbfgs', random_state=1)\n",
    ")\n",
    "log_reg_pipe.fit(X_train, y_train)\n",
    "\n",
    "print('Log reg train score:', log_reg_pipe.score(X_train, y_train))\n",
    "print('Log reg test score:', log_reg_pipe.score(X_test, y_test))"
   ]
  },
  {
   "cell_type": "code",
   "execution_count": 20,
   "id": "648bb47f-58e7-437d-b266-0141f303e876",
   "metadata": {},
   "outputs": [
    {
     "name": "stdout",
     "output_type": "stream",
     "text": [
      "best_score: 0.8024197195838987\n",
      "best_params: {'logisticregression__C': 100.0}\n"
     ]
    }
   ],
   "source": [
    "from sklearn.model_selection import GridSearchCV\n",
    "\n",
    "param_range = [0.0001, 0.001, 0.01, 0.1, 1.0, 10.0, 100.0, 1000.0]\n",
    "param_grid = [{'logisticregression__C': param_range}]\n",
    "grid_search = GridSearchCV(\n",
    "    estimator=log_reg_pipe,\n",
    "    param_grid=param_grid,\n",
    "    scoring='accuracy',\n",
    "    cv=10,\n",
    "    refit=True,\n",
    "    n_jobs=-1\n",
    ")\n",
    "\n",
    "grid_search.fit(X_train, y_train)\n",
    "print('best_score:', grid_search.best_score_)\n",
    "print('best_params:', grid_search.best_params_)"
   ]
  },
  {
   "cell_type": "code",
   "execution_count": 21,
   "id": "76eabad2-5f37-41ad-ac01-32ccf5030df7",
   "metadata": {},
   "outputs": [
    {
     "name": "stdout",
     "output_type": "stream",
     "text": [
      "Rbf svm train score: 0.938622754491018\n",
      "Rbf svm test score: 0.6547085201793722\n"
     ]
    }
   ],
   "source": [
    "from sklearn.svm import SVC\n",
    "\n",
    "svm_pipe = make_pipeline(\n",
    "    StandardScaler(),\n",
    "    SVC(kernel='rbf', gamma=100, C=1, random_state=1)\n",
    ")\n",
    "svm_pipe.fit(X_train, y_train)\n",
    "\n",
    "print('Rbf svm train score:', svm_pipe.score(X_train, y_train))\n",
    "print('Rbf svm test score:', svm_pipe.score(X_test, y_test))"
   ]
  },
  {
   "cell_type": "code",
   "execution_count": 22,
   "id": "797dac37-29b2-4842-906f-47edb3264023",
   "metadata": {},
   "outputs": [
    {
     "name": "stdout",
     "output_type": "stream",
     "text": [
      "best_score: 0.8248077792853913\n",
      "best_params: {'svc__C': 1.0, 'svc__gamma': 0.1, 'svc__kernel': 'rbf'}\n"
     ]
    }
   ],
   "source": [
    "param_grid = [{'svc__C': param_range, 'svc__gamma': param_range, 'svc__kernel': ['rbf']}]\n",
    "grid_search = GridSearchCV(\n",
    "    estimator=svm_pipe,\n",
    "    param_grid=param_grid,\n",
    "    scoring='accuracy',\n",
    "    cv=10,\n",
    "    refit=True,\n",
    "    n_jobs=-1\n",
    ")\n",
    "\n",
    "grid_search.fit(X_train, y_train)\n",
    "print('best_score:', grid_search.best_score_)\n",
    "print('best_params:', grid_search.best_params_)"
   ]
  },
  {
   "cell_type": "code",
   "execution_count": 24,
   "id": "4899982b-ff3b-49b5-b15e-2eb226ef0b74",
   "metadata": {},
   "outputs": [
    {
     "name": "stdout",
     "output_type": "stream",
     "text": [
      "SVM Train score after grid search: 0.8323353293413174\n",
      "SVM Test score after grid search: 0.8295964125560538\n"
     ]
    }
   ],
   "source": [
    "svm_pipe = make_pipeline(\n",
    "    StandardScaler(),\n",
    "    SVC(kernel='rbf', gamma=0.1, C=1.0, random_state=1)\n",
    ")\n",
    "svm_pipe.fit(X_train, y_train)\n",
    "\n",
    "print('SVM Train score after grid search:', svm_pipe.score(X_train, y_train))\n",
    "print('SVM Test score after grid search:', svm_pipe.score(X_test, y_test))"
   ]
  },
  {
   "cell_type": "code",
   "execution_count": 27,
   "id": "f0c4bc1c-2d24-4ecf-a78f-1cc6ccc51ab2",
   "metadata": {},
   "outputs": [
    {
     "data": {
      "text/plain": [
       "array([[ 1.00149925, -0.12239985, -0.27981562,  0.08252871,  0.00131059,\n",
       "        -0.55786659],\n",
       "       [-0.12239985,  1.00149925, -0.06901077,  0.10303674,  0.22615707,\n",
       "         0.14514179],\n",
       "       [-0.27981562, -0.06901077,  1.00149925, -0.22810599, -0.19009735,\n",
       "         0.07785674],\n",
       "       [ 0.08252871,  0.10303674, -0.22810599,  1.00149925,  0.39812088,\n",
       "         0.1781164 ],\n",
       "       [ 0.00131059,  0.22615707, -0.19009735,  0.39812088,  1.00149925,\n",
       "         0.26063427],\n",
       "       [-0.55786659,  0.14514179,  0.07785674,  0.1781164 ,  0.26063427,\n",
       "         1.00149925]])"
      ]
     },
     "execution_count": 27,
     "metadata": {},
     "output_type": "execute_result"
    }
   ],
   "source": [
    "scaler = StandardScaler()\n",
    "scaler.fit(X_train)\n",
    "X_train_std = scaler.transform(X_train)\n",
    "\n",
    "cov_mat = np.cov(X_train_std.T)\n",
    "cov_mat"
   ]
  },
  {
   "cell_type": "code",
   "execution_count": 28,
   "id": "ebb90e32-b761-4344-925e-0b452f420b6c",
   "metadata": {},
   "outputs": [
    {
     "data": {
      "image/png": "[encoded data removed]",
      "text/plain": [
       "<Figure size 432x288 with 1 Axes>"
      ]
     },
     "metadata": {
      "needs_background": "light"
     },
     "output_type": "display_data"
    }
   ],
   "source": [
    "def show_2d_scatter(X, y, pos_label, neg_label, x_feature_idx, y_feature_idx, ylim=None):\n",
    "    plt.scatter(x=X[y == neg_label, x_feature_idx],\n",
    "                y=X[y == neg_label, y_feature_idx],\n",
    "                alpha=0.8,\n",
    "                c='red',\n",
    "                marker='x')\n",
    "    plt.scatter(x=X[y == pos_label, x_feature_idx],\n",
    "                y=X[y == pos_label, y_feature_idx],\n",
    "                alpha=0.8,\n",
    "                c='green',\n",
    "                marker='o')\n",
    "    if ylim:\n",
    "        plt.ylim(0, ylim)\n",
    "    plt.show()\n",
    "\n",
    "\n",
    "show_2d_scatter(X_train, y_train, SURVIVED, NOT_SURVIVED, AGE_FEATURE, FARE_FEATURE, ylim=300)"
   ]
  },
  {
   "cell_type": "code",
   "execution_count": 29,
   "id": "c4b7539d-997c-45ab-afdd-c46a5cc45cb9",
   "metadata": {},
   "outputs": [
    {
     "data": {
      "image/png": "[encoded data removed]",
      "text/plain": [
       "<Figure size 432x288 with 1 Axes>"
      ]
     },
     "metadata": {
      "needs_background": "light"
     },
     "output_type": "display_data"
    }
   ],
   "source": [
    "X_train_men = X_train[X_train[:, SEX_FEATURE] == MALE]\n",
    "y_train_men = y_train[X_train[:, SEX_FEATURE] == MALE]\n",
    "show_2d_scatter(X_train_men, y_train_men, SURVIVED, NOT_SURVIVED, AGE_FEATURE, FARE_FEATURE, ylim=270)"
   ]
  },
  {
   "cell_type": "code",
   "execution_count": 30,
   "id": "39579500-7885-43b8-9223-c73b3f745cd9",
   "metadata": {},
   "outputs": [
    {
     "data": {
      "image/png": "[encoded data removed]",
      "text/plain": [
       "<Figure size 432x288 with 1 Axes>"
      ]
     },
     "metadata": {
      "needs_background": "light"
     },
     "output_type": "display_data"
    }
   ],
   "source": [
    "X_train_women = X_train[X_train[:, SEX_FEATURE] == FEMALE]\n",
    "y_train_women = y_train[X_train[:, SEX_FEATURE] == FEMALE]\n",
    "show_2d_scatter(X_train_women, y_train_women, SURVIVED, NOT_SURVIVED, AGE_FEATURE, FARE_FEATURE, ylim=270)"
   ]
  },
  {
   "cell_type": "code",
   "execution_count": 31,
   "id": "5a1d0404-a811-4f03-9989-1bb4922811e3",
   "metadata": {},
   "outputs": [
    {
     "name": "stdout",
     "output_type": "stream",
     "text": [
      "Random forest train score: 0.9760479041916168\n",
      "Random forest test score: 0.8026905829596412\n"
     ]
    }
   ],
   "source": [
    "from sklearn.ensemble import RandomForestClassifier\n",
    "\n",
    "forest = RandomForestClassifier(criterion='gini', \n",
    "                                n_estimators=25,\n",
    "                                random_state=1)\n",
    "forest.fit(X_train, y_train)\n",
    "print('Random forest train score:', forest.score(X_train, y_train))\n",
    "print('Random forest test score:', forest.score(X_test, y_test))"
   ]
  },
  {
   "cell_type": "code",
   "execution_count": 32,
   "id": "6d846c1f-e845-4629-b04e-42c9fae43531",
   "metadata": {},
   "outputs": [
    {
     "name": "stdout",
     "output_type": "stream",
     "text": [
      "best_score: 0.8293758480325645\n",
      "best_params: {'criterion': 'gini', 'n_estimators': 30}\n"
     ]
    }
   ],
   "source": [
    "param_grid = [\n",
    "    {'n_estimators': [10, 20, 30, 40, 50, 60, 70, 80, 90, 100],\n",
    "     'criterion': ['gini', 'entropy']}\n",
    "]\n",
    "grid_search = GridSearchCV(\n",
    "    estimator=forest,\n",
    "    param_grid=param_grid,\n",
    "    scoring='accuracy',\n",
    "    cv=10,\n",
    "    refit=True,\n",
    "    n_jobs=-1\n",
    ")\n",
    "grid_search.fit(X_train, y_train)\n",
    "print('best_score:', grid_search.best_score_)\n",
    "print('best_params:', grid_search.best_params_)"
   ]
  },
  {
   "cell_type": "code",
   "execution_count": 33,
   "id": "63d9b98a-b3ae-4417-8b1d-470336b6c6ce",
   "metadata": {},
   "outputs": [
    {
     "name": "stdout",
     "output_type": "stream",
     "text": [
      "Random forest train score: 0.9775449101796407\n",
      "Random forest test score: 0.7982062780269058\n"
     ]
    }
   ],
   "source": [
    "forest = RandomForestClassifier(criterion='gini', \n",
    "                                n_estimators=30,\n",
    "                                random_state=1)\n",
    "forest.fit(X_train, y_train)\n",
    "print('Random forest train score:', forest.score(X_train, y_train))\n",
    "print('Random forest test score:', forest.score(X_test, y_test))"
   ]
  }
 ],
 "metadata": {
  "kernelspec": {
   "display_name": "Python 3 (ipykernel)",
   "language": "python",
   "name": "python3"
  },
  "language_info": {
   "codemirror_mode": {
    "name": "ipython",
    "version": 3
   },
   "file_extension": ".py",
   "mimetype": "text/x-python",
   "name": "python",
   "nbconvert_exporter": "python",
   "pygments_lexer": "ipython3",
   "version": "3.9.7"
  }
 },
 "nbformat": 4,
 "nbformat_minor": 5
}
